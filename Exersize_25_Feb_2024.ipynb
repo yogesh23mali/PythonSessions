{
  "nbformat": 4,
  "nbformat_minor": 0,
  "metadata": {
    "colab": {
      "provenance": []
    },
    "kernelspec": {
      "name": "python3",
      "display_name": "Python 3"
    },
    "language_info": {
      "name": "python"
    }
  },
  "cells": [
    {
      "cell_type": "code",
      "execution_count": 88,
      "metadata": {
        "colab": {
          "base_uri": "https://localhost:8080/"
        },
        "id": "pNYkdaaWC1b7",
        "outputId": "9960a467-9fc6-4df2-8af8-985420fc85d0"
      },
      "outputs": [
        {
          "output_type": "stream",
          "name": "stdout",
          "text": [
            "Origional list:\n",
            "{'Apple': 'Fruit', 'Orange': 'Fruit', 'Hero Splendor': 'Bike', 'Pepsi': 'Drink'}\n",
            "reversed key value list:\n",
            "{'Fruit': 'Orange', 'Bike': 'Hero Splendor', 'Drink': 'Pepsi'}\n"
          ]
        }
      ],
      "source": [
        "# 1.SOlve the below question.\n",
        "# Given is the below dictionary.\n",
        "# dict = {\"Apple\":\"Fruit\",\"Orange\":\"Fruit\",\"Hero Splendor\":\"Bike\",\"Pepsi\":\"Drink\"}\n",
        "\n",
        "# expected o/p:\n",
        "# dict = {\"Fruit\":\"Apple\",\"Fruit\":\"Orange\",\"Bike\":\"Hero Splendor\",\"Drink\":\"Pepsi\"}\n",
        "\n",
        "dict = {\"Apple\":\"Fruit\",\"Orange\":\"Fruit\",\"Hero Splendor\":\"Bike\",\"Pepsi\":\"Drink\"}\n",
        "rev_dict  = {}\n",
        "# print(dict.items())\n",
        "# print(dict.keys())\n",
        "# print(dict.values())\n",
        "\n",
        "# rev_dict[dict.values()] = dict.keys()\n",
        "\n",
        "for key, value in dict.items():\n",
        "    rev_dict[value] = key\n",
        "print(\"Origional list:\")\n",
        "print(dict)\n",
        "print(\"reversed key value list:\")\n",
        "print(rev_dict)"
      ]
    },
    {
      "cell_type": "code",
      "source": [
        "# 2.We have some data that contains mixture of flowers and shrubs in a list.\n",
        "# Our customer would like two separate lists, flowers and shrubs\n",
        "\n",
        "# data = [\"Andromeda - Shrub\",\"Belflower - Flower\",\"Daffodil - Flower\",\"LiLac - Shrub\"]\n",
        "\n",
        "my_list = [\"Andromeda - Shrub\",\"Belflower - Flower\",\"Daffodil - Flower\",\"LiLac - Shrub\"]\n",
        "dataFlower = []\n",
        "dataShrub = []\n",
        "\n",
        "substring_to_check = \"Shrub\"\n",
        "\n",
        "for s in my_list:\n",
        "    if substring_to_check in s:\n",
        "      dataShrub.append(s)\n",
        "    else:\n",
        "      dataFlower.append(s)\n",
        "\n",
        "print(\"Origional list:\")\n",
        "print(my_list)\n",
        "\n",
        "print(\"\\n Shrubs list:\")\n",
        "print(dataShrub)\n",
        "print(\"\\n Flowers list:\")\n",
        "print(dataFlower)"
      ],
      "metadata": {
        "colab": {
          "base_uri": "https://localhost:8080/"
        },
        "id": "9MumSYepC3L5",
        "outputId": "899492c5-1bbe-4733-850b-210cb084556d"
      },
      "execution_count": 91,
      "outputs": [
        {
          "output_type": "stream",
          "name": "stdout",
          "text": [
            "Origional list:\n",
            "['Andromeda - Shrub', 'Belflower - Flower', 'Daffodil - Flower', 'LiLac - Shrub']\n",
            "\n",
            " Shrubs list:\n",
            "['Andromeda - Shrub', 'LiLac - Shrub']\n",
            "\n",
            " Flowers list:\n",
            "['Belflower - Flower', 'Daffodil - Flower']\n"
          ]
        }
      ]
    },
    {
      "cell_type": "code",
      "source": [],
      "metadata": {
        "id": "1A0_AcdhFD3X"
      },
      "execution_count": 84,
      "outputs": []
    },
    {
      "cell_type": "code",
      "source": [],
      "metadata": {
        "id": "Jb297dMNGEYY"
      },
      "execution_count": null,
      "outputs": []
    }
  ]
}