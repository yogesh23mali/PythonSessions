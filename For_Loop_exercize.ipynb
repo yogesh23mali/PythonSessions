{
  "nbformat": 4,
  "nbformat_minor": 0,
  "metadata": {
    "colab": {
      "provenance": []
    },
    "kernelspec": {
      "name": "python3",
      "display_name": "Python 3"
    },
    "language_info": {
      "name": "python"
    }
  },
  "cells": [
    {
      "cell_type": "code",
      "source": [
        "#Write a Python program to print the numbers from 1 to 10 using a for loop.\n",
        "for i in range(0,10):\n",
        "  print(i)"
      ],
      "metadata": {
        "colab": {
          "base_uri": "https://localhost:8080/"
        },
        "id": "XokKXG-X7qGQ",
        "outputId": "36fd45a6-8e8d-4143-abf0-c65fd095e6fb"
      },
      "execution_count": 7,
      "outputs": [
        {
          "output_type": "stream",
          "name": "stdout",
          "text": [
            "0\n",
            "1\n",
            "2\n",
            "3\n",
            "4\n",
            "5\n",
            "6\n",
            "7\n",
            "8\n",
            "9\n"
          ]
        }
      ]
    },
    {
      "cell_type": "code",
      "source": [
        "#Write a Python program to find the sum of all even numbers between 1 and 50 using a while loop.\n",
        "sum_even = 0\n",
        "for i in range(0,50):\n",
        "  if i % 2 == 0:\n",
        "    sum_even += i\n",
        "    print(i)\n",
        "print(f\"Sum of event between 1 to 50: {sum_even}\")"
      ],
      "metadata": {
        "colab": {
          "base_uri": "https://localhost:8080/"
        },
        "id": "Iz3p9mgW703n",
        "outputId": "7f95d5aa-1108-4858-bfb7-2469a3d00dfa"
      },
      "execution_count": 8,
      "outputs": [
        {
          "output_type": "stream",
          "name": "stdout",
          "text": [
            "0\n",
            "2\n",
            "4\n",
            "6\n",
            "8\n",
            "10\n",
            "12\n",
            "14\n",
            "16\n",
            "18\n",
            "20\n",
            "22\n",
            "24\n",
            "26\n",
            "28\n",
            "30\n",
            "32\n",
            "34\n",
            "36\n",
            "38\n",
            "40\n",
            "42\n",
            "44\n",
            "46\n",
            "48\n",
            "Sum of event between 1 to 50: 600\n"
          ]
        }
      ]
    },
    {
      "cell_type": "code",
      "source": [
        "#Create a program that uses nested loops to print a pattern of stars (e.g., a triangle or a square).\n",
        "# star pattern\n",
        "input_range = int(input(\"Enter number to print star pattern:\"))\n",
        "for i in range(input_range, 0, -1):\n",
        "  for j in range(0, input_range+1, 1):\n",
        "    if j>=i:\n",
        "      print(\" *\", end=\"\")\n",
        "    else:\n",
        "      print(\" \", end=\"\")\n",
        "  print()"
      ],
      "metadata": {
        "colab": {
          "base_uri": "https://localhost:8080/"
        },
        "id": "TuVXPiDd8B1n",
        "outputId": "21d23a67-d0fe-4290-bccf-57115cf802d4"
      },
      "execution_count": 9,
      "outputs": [
        {
          "output_type": "stream",
          "name": "stdout",
          "text": [
            "Enter number to print star pattern:5\n",
            "      *\n",
            "     * *\n",
            "    * * *\n",
            "   * * * *\n",
            "  * * * * *\n"
          ]
        }
      ]
    },
    {
      "cell_type": "code",
      "source": [
        "#Write a Python program that uses break and continue statements to print only odd\n",
        "for i in range(1,20,1):\n",
        "  if i %2 == 0:\n",
        "    continue\n",
        "  else:\n",
        "    print(i)"
      ],
      "metadata": {
        "colab": {
          "base_uri": "https://localhost:8080/"
        },
        "id": "z0KDGHP48gk5",
        "outputId": "17515280-5f51-46df-bec1-06ad66b0e7fc"
      },
      "execution_count": 13,
      "outputs": [
        {
          "output_type": "stream",
          "name": "stdout",
          "text": [
            "1\n",
            "3\n",
            "5\n",
            "7\n",
            "9\n",
            "11\n",
            "13\n",
            "15\n",
            "17\n",
            "19\n"
          ]
        }
      ]
    },
    {
      "cell_type": "code",
      "source": [
        "#Given a list of numbers, write a program to calculate the square of each number using a for loop and store the results in a new list.\n",
        "a = [1,22,33,42,2,34,13,8]\n",
        "for i in a:\n",
        "  print(f\"Square of: {i} = {i*i}\")"
      ],
      "metadata": {
        "colab": {
          "base_uri": "https://localhost:8080/"
        },
        "id": "CyE1G8Qs9WOp",
        "outputId": "acf113e9-0c52-4d49-f904-3af80318023a"
      },
      "execution_count": 18,
      "outputs": [
        {
          "output_type": "stream",
          "name": "stdout",
          "text": [
            "Square of: 1 = 1\n",
            "Square of: 22 = 484\n",
            "Square of: 33 = 1089\n",
            "Square of: 42 = 1764\n",
            "Square of: 2 = 4\n",
            "Square of: 34 = 1156\n",
            "Square of: 13 = 169\n",
            "Square of: 8 = 64\n"
          ]
        }
      ]
    },
    {
      "cell_type": "code",
      "source": [
        "#Write a Python program to count the number of vowels in a given string using a for loop.\n",
        "mystr = \"This is simple sentence for python\"\n",
        "count_vowel = 0\n",
        "for i in mystr:\n",
        "  if i in ('a','e','i','o','u'):\n",
        "    count_vowel += 1\n",
        "    # print(i)\n",
        "print(f\"Count of vowels n given strings is = {count_vowel}\")"
      ],
      "metadata": {
        "colab": {
          "base_uri": "https://localhost:8080/"
        },
        "id": "R0y8gw4e9wd_",
        "outputId": "70f856b6-0604-4288-a19b-8c1a7cd615a4"
      },
      "execution_count": 23,
      "outputs": [
        {
          "output_type": "stream",
          "name": "stdout",
          "text": [
            "Count of vowels n given strings is = 9\n"
          ]
        }
      ]
    },
    {
      "cell_type": "code",
      "source": [
        "#Use the enumerate function to iterate through a list of names and print both the index and the name.\n",
        "a = [1,22,33,42,2,34,13,8]\n",
        "print(\"Index, values\")\n",
        "for i, x in enumerate(a):\n",
        "  print(f\"{i}, {x}\")"
      ],
      "metadata": {
        "colab": {
          "base_uri": "https://localhost:8080/"
        },
        "id": "zlnCOnmV-RrZ",
        "outputId": "ad76da81-ce43-48d2-c163-1584cf55c56f"
      },
      "execution_count": 27,
      "outputs": [
        {
          "output_type": "stream",
          "name": "stdout",
          "text": [
            "Index, values\n",
            "0, 1\n",
            "1, 22\n",
            "2, 33\n",
            "3, 42\n",
            "4, 2\n",
            "5, 34\n",
            "6, 13\n",
            "7, 8\n"
          ]
        }
      ]
    },
    {
      "cell_type": "code",
      "source": [
        "#Write a program to combine two lists, one containing names and the other containing ages, using the zip function and print the pairs.\n",
        "nameList = [\"sachin\", \"kapil\", \"Krishna\"]\n",
        "ageList = [32,33,35]\n",
        "combineData = zip(nameList, ageList)\n",
        "print(combineData)\n",
        "for nameList, ageList in combineData:\n",
        "  print(f\"{nameList}, {ageList}\")"
      ],
      "metadata": {
        "colab": {
          "base_uri": "https://localhost:8080/"
        },
        "id": "wgxvHObH-7aM",
        "outputId": "632a20b2-5ff4-4789-8381-d149043a1240"
      },
      "execution_count": 39,
      "outputs": [
        {
          "output_type": "stream",
          "name": "stdout",
          "text": [
            "<zip object at 0x7f7a76227dc0>\n",
            "sachin, 32\n",
            "kapil, 33\n",
            "Krishna, 35\n"
          ]
        }
      ]
    },
    {
      "cell_type": "code",
      "source": [
        "#Create an infinite loop that continuously takes user input for a number until the user enters a specific value to break out of the loop.\n",
        "enterYorN = \"\"\n",
        "while True:\n",
        "  userInput = int(input(\"\\nEnter number:\"))\n",
        "  print(userInput)\n",
        "  if userInput == 5:\n",
        "    print(\"program ends.\")\n",
        "    break\n",
        "  else:\n",
        "    continue\n",
        "\n"
      ],
      "metadata": {
        "colab": {
          "base_uri": "https://localhost:8080/"
        },
        "id": "kaS6tdiuMS8h",
        "outputId": "42d35b45-d967-43d2-eaf9-6a6f8c53faa1"
      },
      "execution_count": 42,
      "outputs": [
        {
          "output_type": "stream",
          "name": "stdout",
          "text": [
            "\n",
            "Enter number:3\n",
            "3\n",
            "\n",
            "Enter number:2\n",
            "2\n",
            "\n",
            "Enter number:5\n",
            "5\n",
            "program ends.\n"
          ]
        }
      ]
    },
    {
      "cell_type": "code",
      "source": [
        "#Write a program to check whether a given number is a prime number or not using a for loop.\n",
        "userInput = int(input(\"Enter number:\"))\n",
        "# print(userInput)\n",
        "noPrime = True\n",
        "for x in range(2,userInput):\n",
        "  if userInput % x == 0:\n",
        "    noPrime = False\n",
        "    # print(x)\n",
        "if noPrime == True:\n",
        "  print(f\"Given number is prime: {userInput}\")\n",
        "else:\n",
        "  print(f\"Given number is not prime.\")"
      ],
      "metadata": {
        "colab": {
          "base_uri": "https://localhost:8080/"
        },
        "id": "ut86kTNzOG2P",
        "outputId": "1e083974-1dea-43c0-9c3d-0447a645fe0c"
      },
      "execution_count": 11,
      "outputs": [
        {
          "output_type": "stream",
          "name": "stdout",
          "text": [
            "Enter number:89\n",
            "Given number is prime: 89\n"
          ]
        }
      ]
    },
    {
      "cell_type": "code",
      "source": [
        "#Write a program to generate the Fibonacci series up to a specified number of terms using a for loop.\n",
        "userInput = int(input(\"Enter number:\"))\n",
        "# print(userInput)\n",
        "fibbonacci = [0,1]\n",
        "print(\"Fibbonacci series: \")\n",
        "# print(fibbonacci)\n",
        "for y in range(2, userInput):\n",
        "  fibbonacciNextNum = fibbonacci[-1] + fibbonacci[-2]\n",
        "  fibbonacci.append(fibbonacciNextNum)\n",
        "  # y = fibbonacci\n",
        "  # print(fibbonacci)\n",
        "  # print(y)\n",
        "print(fibbonacci)"
      ],
      "metadata": {
        "colab": {
          "base_uri": "https://localhost:8080/"
        },
        "id": "oH5oxrCnQ8Pa",
        "outputId": "96dfc6f4-27ea-47f4-8665-f34345110e67"
      },
      "execution_count": 32,
      "outputs": [
        {
          "output_type": "stream",
          "name": "stdout",
          "text": [
            "Enter number:10\n",
            "Fibbonacci series: \n",
            "[0, 1, 1, 2, 3, 5, 8, 13, 21, 34]\n"
          ]
        }
      ]
    },
    {
      "cell_type": "code",
      "source": [
        "from ast import mod\n",
        "# Write a program to check if a given string is a palindrome (reads the same forwards and backwards) using a loop.\n",
        "userInput = int(input(\"Enter number:\"))\n",
        "print(userInput)\n",
        "PallindromeNum = 0\n",
        "while userInput > 0:\n",
        "  modNum = userInput % 10\n",
        "  userInput = userInput // 10\n",
        "  PallindromeNum = (PallindromeNum * 10) + modNum\n",
        "  # print(PallindromeNum)\n",
        "  # print(f\"userInput= {userInput} , {modNum}\")\n",
        "# print(PallindromeNum)\n",
        "if userInput == PallindromeNum:\n",
        "  print(f\"Given number is pallindrome: {userInput}\")"
      ],
      "metadata": {
        "colab": {
          "base_uri": "https://localhost:8080/"
        },
        "id": "hk12OmVtIrwN",
        "outputId": "a6ad0d4c-15fb-433e-f765-9cd9001dfd32"
      },
      "execution_count": 47,
      "outputs": [
        {
          "output_type": "stream",
          "name": "stdout",
          "text": [
            "Enter number:2332\n",
            "2332\n"
          ]
        }
      ]
    },
    {
      "cell_type": "code",
      "source": [
        "#Implement a simple number guessing game where the user has to guess a randomly generated number using a loop\n",
        "import random\n",
        "\n",
        "randomNumber = random.randint(1,20)\n",
        "print(randomNumber)\n",
        "\n",
        "\n",
        "\n",
        "for x in range(0, 5):\n",
        "  userInput = int(input(\"Guess number between 1 to 20:\"))\n",
        "  print(userInput)\n",
        "  if userInput <1 or userInput > 20:\n",
        "    print(\"Enter correct number between 1 to 20.\")\n",
        "  if randomNumber == userInput:\n",
        "    print(\"Your guess correct\")\n",
        "    break\n",
        "  else:\n",
        "    if userInput < randomNumber:\n",
        "      print(\"You entered lesser number.\")\n",
        "    elif userInput > randomNumber:\n",
        "      print(\"You entered higher number.\")\n",
        "    print(\"Your guess incorrect. Please enter again.\")\n",
        "\n",
        "\n",
        "\n",
        "\n",
        "\n",
        ""
      ],
      "metadata": {
        "colab": {
          "base_uri": "https://localhost:8080/"
        },
        "id": "zzdofeGLKy-A",
        "outputId": "1616133d-74c7-48ff-83e1-380b5b162c7b"
      },
      "execution_count": 64,
      "outputs": [
        {
          "output_type": "stream",
          "name": "stdout",
          "text": [
            "20\n",
            "Guess number between 1 to 20:5\n",
            "5\n",
            "You entered lesser number.\n",
            "Your guess incorrect. Please enter again.\n",
            "Guess number between 1 to 20:15\n",
            "15\n",
            "You entered lesser number.\n",
            "Your guess incorrect. Please enter again.\n",
            "Guess number between 1 to 20:18\n",
            "18\n",
            "You entered lesser number.\n",
            "Your guess incorrect. Please enter again.\n",
            "Guess number between 1 to 20:19\n",
            "19\n",
            "You entered lesser number.\n",
            "Your guess incorrect. Please enter again.\n",
            "Guess number between 1 to 20:20\n",
            "20\n",
            "Your guess correct\n"
          ]
        }
      ]
    },
    {
      "cell_type": "code",
      "source": [],
      "metadata": {
        "id": "VkzxtfQrOTLj"
      },
      "execution_count": null,
      "outputs": []
    }
  ]
}