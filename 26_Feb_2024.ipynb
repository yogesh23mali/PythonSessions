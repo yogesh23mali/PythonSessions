{
  "nbformat": 4,
  "nbformat_minor": 0,
  "metadata": {
    "colab": {
      "provenance": []
    },
    "kernelspec": {
      "name": "python3",
      "display_name": "Python 3"
    },
    "language_info": {
      "name": "python"
    }
  },
  "cells": [
    {
      "cell_type": "code",
      "source": [
        "#List of all event number till 10\n",
        "a = []\n",
        "for i in range(1,10):\n",
        "  if i % 2 == 0:\n",
        "    a.append(i)\n",
        "    print(i)\n",
        "\n",
        "print(a)"
      ],
      "metadata": {
        "colab": {
          "base_uri": "https://localhost:8080/"
        },
        "id": "0cyl22dYqg89",
        "outputId": "747aeaed-9a24-4d16-c5a4-aef791b8a4ac"
      },
      "execution_count": 18,
      "outputs": [
        {
          "output_type": "stream",
          "name": "stdout",
          "text": [
            "2\n",
            "4\n",
            "6\n",
            "8\n",
            "[2, 4, 6, 8]\n"
          ]
        }
      ]
    },
    {
      "cell_type": "code",
      "source": [
        "#Assignment\n",
        "#List of all event number till 10\n",
        "print(\"Original string:\")\n",
        "name = \"Sachin123Tendulkar007\"\n",
        "print(name, \" \\n\")\n",
        "digit_count = 0\n",
        "char_count = 0\n",
        "newstr = \"\"\n",
        "newstrDigit = \"\"\n",
        "\n",
        "for x in name:\n",
        "  # print(x)\n",
        "  if x.isdigit():\n",
        "    digit_count += 1\n",
        "    newstrDigit += x\n",
        "  else:\n",
        "    char_count +=1\n",
        "    newstr += x\n",
        "\n",
        "# print(digit_count, newstr)\n",
        "# print(char_count, newstrDigit)\n",
        "\n",
        "print(f\"All digits in name '{name}' are '{newstrDigit}' and digit total count is '{digit_count}'\")\n",
        "print(f\"All digits in name '{name}' are '{newstr}' and total string count is '{char_count}'\")"
      ],
      "metadata": {
        "colab": {
          "base_uri": "https://localhost:8080/"
        },
        "id": "Bdse0zQSqh5b",
        "outputId": "94076499-3889-4b7f-a782-7d3b13d28bc6"
      },
      "execution_count": 22,
      "outputs": [
        {
          "output_type": "stream",
          "name": "stdout",
          "text": [
            "Original string:\n",
            "Sachin123Tendulkar007  \n",
            "\n",
            "All digits in name 'Sachin123Tendulkar007' are '123007' and digit total count is '6'\n",
            "All digits in name 'Sachin123Tendulkar007' are 'SachinTendulkar' and total string count is '15'\n"
          ]
        }
      ]
    },
    {
      "cell_type": "code",
      "source": [
        "#assignment\n",
        "allplayer = [\"aksharpatel\", \"sachinTendulkar\", \"ViratKohli\", \"Vinod Kanbali\", \"Dhoni\"]\n",
        "# cnt_str = len(allplayer)\n",
        "print(\"Origioanl List:\")\n",
        "print(allplayer,\" \\n\")\n",
        "for x in allplayer:\n",
        "  # print(len(x))\n",
        "  if len(x) > 8 and x[-1] == 'i':\n",
        "    # print(x)\n",
        "    print(f\"\\\"{x}\\\", have max length 8 and ending character is 'i'\")"
      ],
      "metadata": {
        "colab": {
          "base_uri": "https://localhost:8080/"
        },
        "id": "lA5ivWBBpUW9",
        "outputId": "cd059529-9554-4cd5-c714-7cbfdc615060"
      },
      "execution_count": 26,
      "outputs": [
        {
          "output_type": "stream",
          "name": "stdout",
          "text": [
            "Origioanl List:\n",
            "['aksharpatel', 'sachinTendulkar', 'ViratKohli', 'Vinod Kanbali', 'Dhoni']  \n",
            "\n",
            "\"ViratKohli\", have max length 8 and ending character is 'i'\n",
            "\"Vinod Kanbali\", have max length 8 and ending character is 'i'\n"
          ]
        }
      ]
    },
    {
      "cell_type": "code",
      "source": [],
      "metadata": {
        "id": "o6S1C73wquqw"
      },
      "execution_count": null,
      "outputs": []
    }
  ]
}