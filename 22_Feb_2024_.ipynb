{
  "nbformat": 4,
  "nbformat_minor": 0,
  "metadata": {
    "colab": {
      "provenance": []
    },
    "kernelspec": {
      "name": "python3",
      "display_name": "Python 3"
    },
    "language_info": {
      "name": "python"
    }
  },
  "cells": [
    {
      "cell_type": "code",
      "execution_count": null,
      "metadata": {
        "colab": {
          "base_uri": "https://localhost:8080/"
        },
        "id": "OYEfIJaIXDPp",
        "outputId": "77d77d4c-0551-4aec-e250-f67e0d98bd85"
      },
      "outputs": [
        {
          "output_type": "stream",
          "name": "stdout",
          "text": [
            "type of 123 <class 'int'>\n",
            "type of '123' <class 'str'>\n",
            "type of 123.0 <class 'float'>\n",
            "instance of 123 True\n",
            "instance of '123' True\n",
            "instance of 123.0 True\n"
          ]
        }
      ],
      "source": [
        "a = 123\n",
        "b = \"123\"\n",
        "c = 123.0\n",
        "\n",
        "print (\"type of 123\", type(a))\n",
        "print (\"type of '123'\",type(b))\n",
        "print (\"type of 123.0\",type(c))\n",
        "\n",
        "print(\"instance of 123\",isinstance(a,int))\n",
        "print(\"instance of '123'\",isinstance(b,str))\n",
        "print(\"instance of 123.0\",isinstance(c,float))"
      ]
    },
    {
      "cell_type": "code",
      "source": [
        "name = \"sam\"\n",
        "age = 5\n",
        "location = \"pune\"\n",
        "print('%s is %s years old and located at %s'%(name, age, location))"
      ],
      "metadata": {
        "colab": {
          "base_uri": "https://localhost:8080/"
        },
        "id": "65sYQGd2Xh2M",
        "outputId": "0d23be83-3a1b-406e-9b93-54a42e306d3e"
      },
      "execution_count": null,
      "outputs": [
        {
          "output_type": "stream",
          "name": "stdout",
          "text": [
            "sam is 5 years old and located at pune\n"
          ]
        }
      ]
    },
    {
      "cell_type": "code",
      "source": [
        "a = [[\"sam\", 5, \"Pune\"],[\"John\", 15, \"Mumbai\"]]\n",
        "print(a)\n",
        "print(type(a))\n",
        "print(isinstance(a,list))\n",
        "print(len(a))\n",
        "print(a[0])\n",
        "print(a[-1])\n",
        "print(sorted(a))\n",
        "print(sorted(a[0]))"
      ],
      "metadata": {
        "colab": {
          "base_uri": "https://localhost:8080/",
          "height": 297
        },
        "id": "DkWmAptwar_A",
        "outputId": "5b9ce0a6-b441-48fe-cac3-817fc5df7a45"
      },
      "execution_count": null,
      "outputs": [
        {
          "output_type": "stream",
          "name": "stdout",
          "text": [
            "[['sam', 5, 'Pune'], ['John', 15, 'Mumbai']]\n",
            "<class 'list'>\n",
            "True\n",
            "2\n",
            "['sam', 5, 'Pune']\n",
            "['John', 15, 'Mumbai']\n",
            "[['John', 15, 'Mumbai'], ['sam', 5, 'Pune']]\n"
          ]
        },
        {
          "output_type": "error",
          "ename": "TypeError",
          "evalue": "'<' not supported between instances of 'int' and 'str'",
          "traceback": [
            "\u001b[0;31m---------------------------------------------------------------------------\u001b[0m",
            "\u001b[0;31mTypeError\u001b[0m                                 Traceback (most recent call last)",
            "\u001b[0;32m<ipython-input-32-758f9a317b3e>\u001b[0m in \u001b[0;36m<cell line: 9>\u001b[0;34m()\u001b[0m\n\u001b[1;32m      7\u001b[0m \u001b[0mprint\u001b[0m\u001b[0;34m(\u001b[0m\u001b[0ma\u001b[0m\u001b[0;34m[\u001b[0m\u001b[0;34m-\u001b[0m\u001b[0;36m1\u001b[0m\u001b[0;34m]\u001b[0m\u001b[0;34m)\u001b[0m\u001b[0;34m\u001b[0m\u001b[0;34m\u001b[0m\u001b[0m\n\u001b[1;32m      8\u001b[0m \u001b[0mprint\u001b[0m\u001b[0;34m(\u001b[0m\u001b[0msorted\u001b[0m\u001b[0;34m(\u001b[0m\u001b[0ma\u001b[0m\u001b[0;34m)\u001b[0m\u001b[0;34m)\u001b[0m\u001b[0;34m\u001b[0m\u001b[0;34m\u001b[0m\u001b[0m\n\u001b[0;32m----> 9\u001b[0;31m \u001b[0mprint\u001b[0m\u001b[0;34m(\u001b[0m\u001b[0msorted\u001b[0m\u001b[0;34m(\u001b[0m\u001b[0ma\u001b[0m\u001b[0;34m[\u001b[0m\u001b[0;36m0\u001b[0m\u001b[0;34m]\u001b[0m\u001b[0;34m)\u001b[0m\u001b[0;34m)\u001b[0m\u001b[0;34m\u001b[0m\u001b[0;34m\u001b[0m\u001b[0m\n\u001b[0m",
            "\u001b[0;31mTypeError\u001b[0m: '<' not supported between instances of 'int' and 'str'"
          ]
        }
      ]
    },
    {
      "cell_type": "code",
      "source": [
        "a = [0,1,2,3,4,5]\n",
        "print(a)\n",
        "a.append(10)\n",
        "print (a)\n",
        "a.insert(2,\"hello\")\n",
        "print(a)\n",
        "a.remove(\"hello\")\n",
        "print(a)\n",
        "del(a[0])\n",
        "print(a)\n",
        "a.insert(0,\"hello\")\n",
        "print(a)"
      ],
      "metadata": {
        "colab": {
          "base_uri": "https://localhost:8080/"
        },
        "id": "OO5xTBoTbBu7",
        "outputId": "c24fd0a3-5395-4195-fba6-ce1762abd541"
      },
      "execution_count": null,
      "outputs": [
        {
          "output_type": "stream",
          "name": "stdout",
          "text": [
            "[0, 1, 2, 3, 4, 5]\n",
            "[0, 1, 2, 3, 4, 5, 10]\n",
            "[0, 1, 'hello', 2, 3, 4, 5, 10]\n",
            "[0, 1, 2, 3, 4, 5, 10]\n",
            "[1, 2, 3, 4, 5, 10]\n",
            "['hello', 1, 2, 3, 4, 5, 10]\n"
          ]
        }
      ]
    },
    {
      "cell_type": "code",
      "source": [
        "list1 = ['hello', 1, 2, 3, 4, 5, 10]\n",
        "print(list1)\n",
        "list2 = list1.pop()\n",
        "print(list2)\n",
        "print(list1)"
      ],
      "metadata": {
        "colab": {
          "base_uri": "https://localhost:8080/"
        },
        "id": "xVITEDJGdBTo",
        "outputId": "47d276ee-2f26-4f23-c1c5-a304d451dbc1"
      },
      "execution_count": null,
      "outputs": [
        {
          "output_type": "stream",
          "name": "stdout",
          "text": [
            "['hello', 1, 2, 3, 4, 5, 10]\n",
            "10\n",
            "['hello', 1, 2, 3, 4, 5]\n"
          ]
        }
      ]
    },
    {
      "cell_type": "code",
      "source": [
        "list1 = ['hello', 1, 2, 3, 4, 5, 10]\n",
        "print(list1)\n",
        "list2 = list1.pop(0)\n",
        "print(list2)\n",
        "print(list1)"
      ],
      "metadata": {
        "colab": {
          "base_uri": "https://localhost:8080/"
        },
        "id": "M2sopFQJep7o",
        "outputId": "526c3a26-11e5-4883-b6a4-b02856e6913f"
      },
      "execution_count": null,
      "outputs": [
        {
          "output_type": "stream",
          "name": "stdout",
          "text": [
            "['hello', 1, 2, 3, 4, 5, 10]\n",
            "hello\n",
            "[1, 2, 3, 4, 5, 10]\n"
          ]
        }
      ]
    },
    {
      "cell_type": "code",
      "source": [
        "a= [\"arun\", \"kumar\", \"kishore\"]\n",
        "print(a)\n",
        "print(a[0][0])\n",
        "print(a[0][-1])\n",
        "\n",
        "print(a[1][0])\n",
        "print(a[1][-1])\n",
        "\n",
        "print(a[2][0])\n",
        "print(a[2][-1])"
      ],
      "metadata": {
        "colab": {
          "base_uri": "https://localhost:8080/"
        },
        "id": "Pk4mm_BHe8hj",
        "outputId": "b1e75e9f-6803-419f-d688-26f5bf074bb6"
      },
      "execution_count": null,
      "outputs": [
        {
          "output_type": "stream",
          "name": "stdout",
          "text": [
            "['arun', 'kumar', 'kishore']\n",
            "a\n",
            "n\n",
            "k\n",
            "r\n",
            "k\n",
            "e\n"
          ]
        }
      ]
    },
    {
      "cell_type": "code",
      "source": [
        "num = input(\"how many number in List you want\")\n",
        "num1 = int(input(\"enter first value\"))\n",
        "num2 = int(input(\"enter second value\"))\n",
        "num3 = int(input(\"enter third value\"))\n",
        "a = [num1, num2, num3]\n",
        "print(num)\n",
        "print (a)"
      ],
      "metadata": {
        "colab": {
          "base_uri": "https://localhost:8080/"
        },
        "id": "OY1Jo7snfoNi",
        "outputId": "9329af02-18bb-4ebf-c107-8eb3bcba0cdb"
      },
      "execution_count": null,
      "outputs": [
        {
          "output_type": "stream",
          "name": "stdout",
          "text": [
            "how many number in List you want3\n",
            "enter first value1\n",
            "enter second value2\n",
            "enter third value3\n",
            "3\n",
            "[1, 2, 3]\n"
          ]
        }
      ]
    },
    {
      "cell_type": "code",
      "source": [
        "num = int(input(\"how many number in List you want in list:\"))\n",
        "x=0\n",
        "list3 = []\n",
        "while x < num:\n",
        "  #print(x)\n",
        "  list3.append(int(input(\"enter %s value \"%(x+1))))\n",
        "  x=x+1\n",
        "print(\"Your list is: \",list3)"
      ],
      "metadata": {
        "colab": {
          "base_uri": "https://localhost:8080/"
        },
        "id": "14cKG7i6gLz_",
        "outputId": "a1ae60d4-84c2-41a7-827c-e34d7d0e3685"
      },
      "execution_count": null,
      "outputs": [
        {
          "output_type": "stream",
          "name": "stdout",
          "text": [
            "how many number in List you want in list:2\n",
            "enter 1 value 12\n",
            "enter 2 value 13\n",
            "Your list is:  [12, 13]\n"
          ]
        }
      ]
    },
    {
      "cell_type": "code",
      "source": [],
      "metadata": {
        "id": "EXLeAA24haXB"
      },
      "execution_count": null,
      "outputs": []
    }
  ]
}