{
  "nbformat": 4,
  "nbformat_minor": 0,
  "metadata": {
    "colab": {
      "provenance": []
    },
    "kernelspec": {
      "name": "python3",
      "display_name": "Python 3"
    },
    "language_info": {
      "name": "python"
    }
  },
  "cells": [
    {
      "cell_type": "code",
      "execution_count": 3,
      "metadata": {
        "colab": {
          "base_uri": "https://localhost:8080/"
        },
        "id": "SEMF87F3tj3K",
        "outputId": "36d88ced-2dfe-474b-e171-db4a7ac5bcda"
      },
      "outputs": [
        {
          "output_type": "stream",
          "name": "stdout",
          "text": [
            "Welcome to the Random Password Generator!\n",
            "Enter the desired length of your password: 15\n",
            "Your random password is: 8-69`=H&Rt~A=-k\n"
          ]
        }
      ],
      "source": [
        "import random\n",
        "import string\n",
        "\n",
        "def generate_password(length=12):\n",
        "  characters = string.ascii_letters + string.digits + string.punctuation\n",
        "  password = ''.join(random.choice(characters) for _ in range(length))\n",
        "  return password\n",
        "\n",
        "def main():\n",
        "  print(\"Welcome to the Random Password Generator!\")\n",
        "  password_length = int(input(\"Enter the desired length of your password: \"))\n",
        "\n",
        "  if password_length <= 0:\n",
        "    print(\"Invalid length. Please enter a positive number.\")\n",
        "    return\n",
        "  password = generate_password(password_length)\n",
        "  print(f\"Your random password is: {password}\")\n",
        "\n",
        "if __name__ == \"__main__\":\n",
        "  main()"
      ]
    },
    {
      "cell_type": "code",
      "source": [
        "import random\n",
        "import string\n",
        "\n",
        "def generate_password(length=12):\n",
        "    if length < 4:\n",
        "        raise ValueError(\"Password length must be at least 4 to accommodate lowercase, uppercase, digit, and special character requirements.\")\n",
        "\n",
        "    lowercase = string.ascii_lowercase\n",
        "    uppercase = string.ascii_uppercase\n",
        "    digits = string.digits\n",
        "    special_characters = string.punctuation\n",
        "\n",
        "    # Ensure at least one of each type of character\n",
        "    password = (\n",
        "        random.choice(lowercase) +\n",
        "        random.choice(uppercase) +\n",
        "        random.choice(digits) +\n",
        "        random.choice(special_characters)\n",
        "    )\n",
        "\n",
        "    # Generate the rest of the password\n",
        "    password += ''.join(random.choice(lowercase + uppercase + digits + special_characters) for _ in range(length - 4))\n",
        "\n",
        "    # Shuffle the password to make the order random\n",
        "    password_list = list(password)\n",
        "    random.shuffle(password_list)\n",
        "    password = ''.join(password_list)\n",
        "\n",
        "    return password\n",
        "\n",
        "def main():\n",
        "    print(\"Welcome to the Secure Random Password Generator!\")\n",
        "    password_length = int(input(\"Enter the desired length of your password (at least 4): \"))\n",
        "\n",
        "    try:\n",
        "        password = generate_password(password_length)\n",
        "        print(f\"Your secure random password is: {password}\")\n",
        "    except ValueError as e:\n",
        "        print(f\"Error: {e}\")\n",
        "\n",
        "if __name__ == \"__main__\":\n",
        "    main()\n"
      ],
      "metadata": {
        "colab": {
          "base_uri": "https://localhost:8080/"
        },
        "id": "dcVNUn1JtvK9",
        "outputId": "8baec891-50a9-41c1-80c1-8739c0edc561"
      },
      "execution_count": 13,
      "outputs": [
        {
          "output_type": "stream",
          "name": "stdout",
          "text": [
            "Welcome to the Secure Random Password Generator!\n",
            "Enter the desired length of your password (at least 4): 14\n",
            "Your secure random password is: G+)o6@mpWq5t:$\n"
          ]
        }
      ]
    },
    {
      "cell_type": "code",
      "source": [],
      "metadata": {
        "id": "OXRvSktnuZ2e"
      },
      "execution_count": null,
      "outputs": []
    }
  ]
}