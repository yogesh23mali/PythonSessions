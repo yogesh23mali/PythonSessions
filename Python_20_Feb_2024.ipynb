{
  "nbformat": 4,
  "nbformat_minor": 0,
  "metadata": {
    "colab": {
      "provenance": []
    },
    "kernelspec": {
      "name": "python3",
      "display_name": "Python 3"
    },
    "language_info": {
      "name": "python"
    }
  },
  "cells": [
    {
      "cell_type": "code",
      "execution_count": null,
      "metadata": {
        "id": "nUmWE7SlJ5Es"
      },
      "outputs": [],
      "source": [
        "tup = (1120,1200)\n",
        "print(max(tup))"
      ]
    },
    {
      "cell_type": "code",
      "source": [
        "a=\"my code\"\n",
        "print(a)"
      ],
      "metadata": {
        "id": "Ohi6CUmXKaKr"
      },
      "execution_count": null,
      "outputs": []
    },
    {
      "cell_type": "code",
      "source": [
        "_a = \"test\"\n",
        "print (_a)"
      ],
      "metadata": {
        "colab": {
          "base_uri": "https://localhost:8080/"
        },
        "id": "DhKimfrIEZsm",
        "outputId": "a3baec3d-b28c-4dd2-e9eb-40bcef926430"
      },
      "execution_count": 6,
      "outputs": [
        {
          "output_type": "stream",
          "name": "stdout",
          "text": [
            "test\n"
          ]
        }
      ]
    },
    {
      "cell_type": "code",
      "source": [
        "a# = \"tesst\"\n",
        "print(a#)"
      ],
      "metadata": {
        "colab": {
          "base_uri": "https://localhost:8080/",
          "height": 106
        },
        "id": "Wz84GsCHEksT",
        "outputId": "b4b60155-ceb1-4fb8-8aa9-455acb5cb5af"
      },
      "execution_count": 8,
      "outputs": [
        {
          "output_type": "error",
          "ename": "SyntaxError",
          "evalue": "incomplete input (<ipython-input-8-ad878834bdd8>, line 2)",
          "traceback": [
            "\u001b[0;36m  File \u001b[0;32m\"<ipython-input-8-ad878834bdd8>\"\u001b[0;36m, line \u001b[0;32m2\u001b[0m\n\u001b[0;31m    print(a#)\u001b[0m\n\u001b[0m             ^\u001b[0m\n\u001b[0;31mSyntaxError\u001b[0m\u001b[0;31m:\u001b[0m incomplete input\n"
          ]
        }
      ]
    },
    {
      "cell_type": "code",
      "source": [
        "#data type\n",
        "#string"
      ],
      "metadata": {
        "id": "mbMkJkSRExFo"
      },
      "execution_count": 10,
      "outputs": []
    },
    {
      "cell_type": "code",
      "source": [
        "a = \"Sachin\"\n",
        "print(a)\n",
        "print(type(a))\n",
        "print(isinstance(a,str))"
      ],
      "metadata": {
        "colab": {
          "base_uri": "https://localhost:8080/"
        },
        "id": "qHr6Wrq-FbGX",
        "outputId": "9941bfb9-412e-4d9e-9699-34af5a0c4789"
      },
      "execution_count": 15,
      "outputs": [
        {
          "output_type": "stream",
          "name": "stdout",
          "text": [
            "Sachin\n",
            "<class 'str'>\n",
            "True\n"
          ]
        }
      ]
    },
    {
      "cell_type": "code",
      "source": [
        "b = 55\n",
        "print(b)\n",
        "print(type(b))\n",
        "print(isinstance(bool,int))"
      ],
      "metadata": {
        "colab": {
          "base_uri": "https://localhost:8080/"
        },
        "id": "e-VWeAcAFqHP",
        "outputId": "06d89d9b-a4d0-46f4-e4ce-17619ef58b7b"
      },
      "execution_count": 16,
      "outputs": [
        {
          "output_type": "stream",
          "name": "stdout",
          "text": [
            "55\n",
            "<class 'int'>\n",
            "False\n"
          ]
        }
      ]
    },
    {
      "cell_type": "code",
      "source": [
        "print(len(a))\n",
        "print(min(a))\n",
        "print(max(a))\n",
        "print(sorted(a))\n",
        "print(a.upper())\n",
        "print(a.lower())\n",
        "print(a.swapcase())"
      ],
      "metadata": {
        "colab": {
          "base_uri": "https://localhost:8080/"
        },
        "id": "Lte8Bm8FF9rH",
        "outputId": "b118c5c1-0d8c-4b85-e976-1173e34fb103"
      },
      "execution_count": 22,
      "outputs": [
        {
          "output_type": "stream",
          "name": "stdout",
          "text": [
            "6\n",
            "S\n",
            "n\n",
            "['S', 'a', 'c', 'h', 'i', 'n']\n",
            "SACHIN\n",
            "sachin\n",
            "sACHIN\n"
          ]
        }
      ]
    },
    {
      "cell_type": "code",
      "source": [
        "a = \"sachin\"\n",
        "print(a.islower())"
      ],
      "metadata": {
        "colab": {
          "base_uri": "https://localhost:8080/"
        },
        "id": "zAxdZ62tGEgU",
        "outputId": "cc1138bd-10f0-4b0f-eb55-7b42ce1c31f3"
      },
      "execution_count": 24,
      "outputs": [
        {
          "output_type": "stream",
          "name": "stdout",
          "text": [
            "True\n"
          ]
        }
      ]
    },
    {
      "cell_type": "code",
      "source": [
        "a = \"SACHIN\"\n",
        "print(a.islower())"
      ],
      "metadata": {
        "colab": {
          "base_uri": "https://localhost:8080/"
        },
        "id": "CvjXJeJfH_Ww",
        "outputId": "5ac99703-1aba-4267-cb75-823686416ad9"
      },
      "execution_count": 25,
      "outputs": [
        {
          "output_type": "stream",
          "name": "stdout",
          "text": [
            "False\n"
          ]
        }
      ]
    },
    {
      "cell_type": "code",
      "source": [
        "a = \"SACHIN\"\n",
        "print(a.isupper())"
      ],
      "metadata": {
        "colab": {
          "base_uri": "https://localhost:8080/"
        },
        "id": "zlDQWDj2IFHi",
        "outputId": "2acc09ca-c99b-42ab-f7e8-b4f0d0551507"
      },
      "execution_count": 26,
      "outputs": [
        {
          "output_type": "stream",
          "name": "stdout",
          "text": [
            "True\n"
          ]
        }
      ]
    },
    {
      "cell_type": "code",
      "source": [
        "a = \"123\"\n",
        "print(a.isdigit())"
      ],
      "metadata": {
        "colab": {
          "base_uri": "https://localhost:8080/"
        },
        "id": "2CUfhgb4IIQt",
        "outputId": "85adcb25-2dd5-4ad4-bf54-82817519be5c"
      },
      "execution_count": 31,
      "outputs": [
        {
          "output_type": "stream",
          "name": "stdout",
          "text": [
            "True\n"
          ]
        }
      ]
    },
    {
      "cell_type": "code",
      "source": [
        "a = \"123asd\"\n",
        "print(a.isalnum())\n"
      ],
      "metadata": {
        "colab": {
          "base_uri": "https://localhost:8080/"
        },
        "id": "aMNAKs5CIKuk",
        "outputId": "f8e9af19-afa1-454b-ed5e-594eeb23d7fd"
      },
      "execution_count": 28,
      "outputs": [
        {
          "output_type": "stream",
          "name": "stdout",
          "text": [
            "True\n"
          ]
        }
      ]
    },
    {
      "cell_type": "code",
      "source": [
        "a = \"asdf\"\n",
        "print(a.isalpha())"
      ],
      "metadata": {
        "colab": {
          "base_uri": "https://localhost:8080/"
        },
        "id": "fyUZS6pnIRmv",
        "outputId": "5c25098b-999c-47a3-9422-626f2d80be14"
      },
      "execution_count": 29,
      "outputs": [
        {
          "output_type": "stream",
          "name": "stdout",
          "text": [
            "True\n"
          ]
        }
      ]
    },
    {
      "cell_type": "code",
      "source": [
        "a = \"sachintendulkar\"\n",
        "print(a.startswith(\"s\"))\n",
        "print(a.endswith(\"N\"))"
      ],
      "metadata": {
        "colab": {
          "base_uri": "https://localhost:8080/"
        },
        "id": "bLUCBcycIWQU",
        "outputId": "812e2947-95b3-4bf1-d08b-658b4819fae4"
      },
      "execution_count": 34,
      "outputs": [
        {
          "output_type": "stream",
          "name": "stdout",
          "text": [
            "True\n",
            "False\n"
          ]
        }
      ]
    },
    {
      "cell_type": "code",
      "source": [
        "a = \"sachintendulkar\"\n",
        "print(a.replace(\"a\",\"$\"))\n",
        "print(a.replace(\"a\",\"$\",1))"
      ],
      "metadata": {
        "colab": {
          "base_uri": "https://localhost:8080/"
        },
        "id": "h6dGqs8aI2-F",
        "outputId": "a4d255d6-6f9b-402f-cd58-31ecacb0c416"
      },
      "execution_count": 35,
      "outputs": [
        {
          "output_type": "stream",
          "name": "stdout",
          "text": [
            "s$chintendulk$r\n",
            "s$chintendulkar\n"
          ]
        }
      ]
    },
    {
      "cell_type": "code",
      "source": [
        "a = \"sachin tendulkar is a batsman\"\n",
        "print(a.split(\" \"))\n",
        "print(a.split(\" \",1))"
      ],
      "metadata": {
        "colab": {
          "base_uri": "https://localhost:8080/"
        },
        "id": "EDUa6rn9JJ9t",
        "outputId": "b4c53053-e16d-4cf3-cc42-3dad6c45511e"
      },
      "execution_count": 40,
      "outputs": [
        {
          "output_type": "stream",
          "name": "stdout",
          "text": [
            "['sachin', 'tendulkar', 'is', 'a', 'batsman']\n",
            "['sachin', 'tendulkar is a batsman']\n"
          ]
        }
      ]
    },
    {
      "cell_type": "code",
      "source": [
        "input()"
      ],
      "metadata": {
        "colab": {
          "base_uri": "https://localhost:8080/",
          "height": 53
        },
        "id": "PqxWwd_6JYAB",
        "outputId": "92d2765d-d01a-4b02-d0e9-2cfa262c98db"
      },
      "execution_count": 41,
      "outputs": [
        {
          "name": "stdout",
          "output_type": "stream",
          "text": [
            "test\n"
          ]
        },
        {
          "output_type": "execute_result",
          "data": {
            "text/plain": [
              "'test'"
            ],
            "application/vnd.google.colaboratory.intrinsic+json": {
              "type": "string"
            }
          },
          "metadata": {},
          "execution_count": 41
        }
      ]
    },
    {
      "cell_type": "code",
      "source": [
        "a = input(\"Enter name\")"
      ],
      "metadata": {
        "colab": {
          "base_uri": "https://localhost:8080/"
        },
        "id": "M9UZRzMLK24L",
        "outputId": "6a9b53f2-06d4-4cae-f2a7-2c236522a3f2"
      },
      "execution_count": 42,
      "outputs": [
        {
          "name": "stdout",
          "output_type": "stream",
          "text": [
            "Enter namesachin\n"
          ]
        }
      ]
    },
    {
      "cell_type": "code",
      "source": [
        "print(a)"
      ],
      "metadata": {
        "colab": {
          "base_uri": "https://localhost:8080/"
        },
        "id": "fsreB3fpK8Ib",
        "outputId": "5e8f6463-6df6-477b-8769-7961ca1a5757"
      },
      "execution_count": 43,
      "outputs": [
        {
          "output_type": "stream",
          "name": "stdout",
          "text": [
            "sachin\n"
          ]
        }
      ]
    },
    {
      "cell_type": "code",
      "source": [
        "a = \"sachin tendulkar is a batsman\"\n",
        "print(a.replace(\" \",\"\"))"
      ],
      "metadata": {
        "colab": {
          "base_uri": "https://localhost:8080/"
        },
        "id": "zVPtuIJmLBNt",
        "outputId": "64d119bf-772c-419c-f766-18c2b42de42f"
      },
      "execution_count": 44,
      "outputs": [
        {
          "output_type": "stream",
          "name": "stdout",
          "text": [
            "sachintendulkarisabatsman\n"
          ]
        }
      ]
    },
    {
      "cell_type": "code",
      "source": [
        "ainput = input(\"enter name\")\n",
        "print(ainput.isalpha())"
      ],
      "metadata": {
        "colab": {
          "base_uri": "https://localhost:8080/"
        },
        "id": "kvcFs-mrLIs0",
        "outputId": "ed1889b7-4e5a-4455-8f61-7fd29c4de9e9"
      },
      "execution_count": 47,
      "outputs": [
        {
          "output_type": "stream",
          "name": "stdout",
          "text": [
            "enter namesachin\n",
            "True\n"
          ]
        }
      ]
    },
    {
      "cell_type": "code",
      "source": [
        "prin"
      ],
      "metadata": {
        "id": "XgdvKrfaLTES"
      },
      "execution_count": null,
      "outputs": []
    }
  ]
}