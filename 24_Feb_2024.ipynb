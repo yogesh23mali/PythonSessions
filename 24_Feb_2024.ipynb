{
  "nbformat": 4,
  "nbformat_minor": 0,
  "metadata": {
    "colab": {
      "provenance": []
    },
    "kernelspec": {
      "name": "python3",
      "display_name": "Python 3"
    },
    "language_info": {
      "name": "python"
    }
  },
  "cells": [
    {
      "cell_type": "code",
      "execution_count": 15,
      "metadata": {
        "colab": {
          "base_uri": "https://localhost:8080/"
        },
        "id": "634Lt-9dOeS5",
        "outputId": "f6778e9c-29ad-4fc1-8d41-0ab36dfaef89"
      },
      "outputs": [
        {
          "output_type": "stream",
          "name": "stdout",
          "text": [
            "11\n",
            "Enter number2\n",
            "2\n",
            "You entered lesser number.\n",
            "Pleae try again.\n",
            "Enter number14\n",
            "14\n",
            "You entered higher number.\n",
            "Pleae try again.\n",
            "Enter number11\n",
            "11\n",
            "Your guess correct.\n"
          ]
        }
      ],
      "source": [
        "import random\n",
        "random_NUM = random.randint(1,20)\n",
        "print(random_NUM)\n",
        "\n",
        "x = 0\n",
        "while x<3:\n",
        "  entered_NUM = int(input(\"Enter number\"))\n",
        "  print(entered_NUM)\n",
        "  if entered_NUM == random_NUM:\n",
        "    print(\"Your guess correct.\")\n",
        "    break\n",
        "  else:\n",
        "    if entered_NUM < random_NUM:\n",
        "      print(\"You entered lesser number.\")\n",
        "    elif entered_NUM > random_NUM:\n",
        "      print(\"You entered higher number.\")\n",
        "    print(\"Pleae try again.\")\n",
        "  x +=1\n"
      ]
    },
    {
      "cell_type": "code",
      "source": [
        "my_dict = {\"name\": \"John\", \"age\": 30, \"city\": \"New York\"}\n",
        "print(my_dict)\n",
        "print(my_dict[\"name\"])\n",
        "\n",
        "my_dict[\"age\"] = 33\n",
        "print(my_dict[\"age\"])  # Output: 31\n",
        "\n",
        "print(my_dict)\n",
        "\n",
        "my_dict[\"gender\"] = \"Male\"\n",
        "\n",
        "print(my_dict)\n",
        "\n",
        "if \"gender\" in my_dict:\n",
        "  print(\"gender is in my dictionary\")\n",
        "\n",
        "del my_dict[\"gender\"]\n",
        "\n",
        "\n",
        "print(my_dict)\n",
        "\n",
        "\n"
      ],
      "metadata": {
        "colab": {
          "base_uri": "https://localhost:8080/"
        },
        "id": "WuWky0TJOnPX",
        "outputId": "0e63153c-2606-42de-fd01-caaaba208122"
      },
      "execution_count": 29,
      "outputs": [
        {
          "output_type": "stream",
          "name": "stdout",
          "text": [
            "{'name': 'John', 'age': 30, 'city': 'New York'}\n",
            "John\n",
            "33\n",
            "{'name': 'John', 'age': 33, 'city': 'New York'}\n",
            "{'name': 'John', 'age': 33, 'city': 'New York', 'gender': 'Male'}\n",
            "gender is in my dictionary\n",
            "{'name': 'John', 'age': 33, 'city': 'New York'}\n",
            "{'name': 'John', 'age': 30, 'city': 'New York'}\n",
            "John\n",
            "33\n",
            "{'name': 'John', 'age': 33, 'city': 'New York'}\n",
            "{'name': 'John', 'age': 33, 'city': 'New York', 'gender': 'Male'}\n",
            "gender is in my dictionary\n",
            "{'name': 'John', 'age': 33, 'city': 'New York'}\n"
          ]
        }
      ]
    },
    {
      "cell_type": "code",
      "source": [
        "print(my_dict.keys())"
      ],
      "metadata": {
        "colab": {
          "base_uri": "https://localhost:8080/"
        },
        "id": "b6Fok-FFSNFa",
        "outputId": "bdb689d6-97b3-4396-b10c-a6d83708e899"
      },
      "execution_count": 31,
      "outputs": [
        {
          "output_type": "stream",
          "name": "stdout",
          "text": [
            "dict_keys(['name', 'age', 'city'])\n"
          ]
        }
      ]
    },
    {
      "cell_type": "code",
      "source": [
        "print(my_dict.values())"
      ],
      "metadata": {
        "colab": {
          "base_uri": "https://localhost:8080/"
        },
        "id": "mSoImsQlTxbK",
        "outputId": "3690ae59-c763-4c05-a774-1e7c6b150d9d"
      },
      "execution_count": 32,
      "outputs": [
        {
          "output_type": "stream",
          "name": "stdout",
          "text": [
            "dict_values(['John', 33, 'New York'])\n"
          ]
        }
      ]
    },
    {
      "cell_type": "code",
      "source": [
        "print(my_dict.items())"
      ],
      "metadata": {
        "colab": {
          "base_uri": "https://localhost:8080/"
        },
        "id": "Ytm6m4TLT0b9",
        "outputId": "3d4394cd-79b6-401b-82c5-f12869c68a6f"
      },
      "execution_count": 34,
      "outputs": [
        {
          "output_type": "stream",
          "name": "stdout",
          "text": [
            "dict_items([('name', 'John'), ('age', 33), ('city', 'New York')])\n"
          ]
        }
      ]
    },
    {
      "cell_type": "code",
      "source": [
        "print(my_dict.get(\"age\"))"
      ],
      "metadata": {
        "colab": {
          "base_uri": "https://localhost:8080/"
        },
        "id": "1R9evrpOT20-",
        "outputId": "8fbbbf73-7cbb-4775-b365-89f358963c33"
      },
      "execution_count": 36,
      "outputs": [
        {
          "output_type": "stream",
          "name": "stdout",
          "text": [
            "33\n"
          ]
        }
      ]
    },
    {
      "cell_type": "code",
      "source": [
        "squares = {x: x*x for x in range(15)}\n",
        "# Output: {0: 0, 1: 1, 2: 4, 3: 9, 4: 16}\n",
        "print(squares)"
      ],
      "metadata": {
        "colab": {
          "base_uri": "https://localhost:8080/"
        },
        "id": "-XuJ1xsDUhjU",
        "outputId": "f37a6f34-8af1-44cb-ca24-de4dd63cfa3a"
      },
      "execution_count": 42,
      "outputs": [
        {
          "output_type": "stream",
          "name": "stdout",
          "text": [
            "{0: 0, 1: 1, 2: 4, 3: 9, 4: 16, 5: 25, 6: 36, 7: 49, 8: 64, 9: 81, 10: 100, 11: 121, 12: 144, 13: 169, 14: 196}\n"
          ]
        }
      ]
    },
    {
      "cell_type": "code",
      "source": [
        "nested_dict = {\"person\": {\"name\": \"John\", \"age\": 30}, \"city\": \"New York\"}\n",
        "print(nested_dict)"
      ],
      "metadata": {
        "colab": {
          "base_uri": "https://localhost:8080/"
        },
        "id": "pGOFjECQUqGe",
        "outputId": "4f5f7380-e370-4706-bc06-849e038a082c"
      },
      "execution_count": 56,
      "outputs": [
        {
          "output_type": "stream",
          "name": "stdout",
          "text": [
            "{'person': {'name': 'John', 'age': 30}, 'city': 'New York'}\n"
          ]
        }
      ]
    },
    {
      "cell_type": "code",
      "source": [
        "print(nested_dict.get(\"person\"))"
      ],
      "metadata": {
        "colab": {
          "base_uri": "https://localhost:8080/"
        },
        "id": "3-hyCnDuU38_",
        "outputId": "19309273-979c-4841-f2b8-31c1b19d8699"
      },
      "execution_count": 47,
      "outputs": [
        {
          "output_type": "stream",
          "name": "stdout",
          "text": [
            "{'name': 'John', 'age': 30}\n"
          ]
        }
      ]
    },
    {
      "cell_type": "code",
      "source": [
        "print(len(nested_dict))"
      ],
      "metadata": {
        "colab": {
          "base_uri": "https://localhost:8080/"
        },
        "id": "usqNvjV3VD7M",
        "outputId": "e3539f5f-63d3-45c7-e9ac-cdd1527f7239"
      },
      "execution_count": 48,
      "outputs": [
        {
          "output_type": "stream",
          "name": "stdout",
          "text": [
            "2\n"
          ]
        }
      ]
    },
    {
      "cell_type": "code",
      "source": [
        "print(nested_dict.pop(\"city\"))\n",
        "print(nested_dict)"
      ],
      "metadata": {
        "colab": {
          "base_uri": "https://localhost:8080/"
        },
        "id": "kUphaAG-VOcl",
        "outputId": "ff1714dc-605d-4f6b-d992-dfbdaa790d37"
      },
      "execution_count": 57,
      "outputs": [
        {
          "output_type": "stream",
          "name": "stdout",
          "text": [
            "New York\n",
            "{'person': {'name': 'John', 'age': 30}}\n"
          ]
        }
      ]
    },
    {
      "cell_type": "code",
      "source": [],
      "metadata": {
        "id": "Li-Mb0h_V6Dq"
      },
      "execution_count": null,
      "outputs": []
    }
  ]
}