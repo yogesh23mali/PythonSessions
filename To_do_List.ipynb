{
  "nbformat": 4,
  "nbformat_minor": 0,
  "metadata": {
    "colab": {
      "provenance": []
    },
    "kernelspec": {
      "name": "python3",
      "display_name": "Python 3"
    },
    "language_info": {
      "name": "python"
    }
  },
  "cells": [
    {
      "cell_type": "code",
      "execution_count": 7,
      "metadata": {
        "colab": {
          "base_uri": "https://localhost:8080/"
        },
        "id": "6hisdOm7gCmz",
        "outputId": "1251e1bb-f25c-4d8b-949a-bbd04142231b"
      },
      "outputs": [
        {
          "output_type": "stream",
          "name": "stdout",
          "text": [
            "To-do list:\n",
            "1. Add Task\n",
            "2. View Task\n",
            "3. Mark task as completed\n",
            "4. Exit\n",
            "Enter your choice (1-4): 4\n",
            "Exiting To-Do List. Goodbye!\n"
          ]
        }
      ],
      "source": [
        "def show_menu():\n",
        "  print(\"To-do list:\")\n",
        "  print(\"1. Add Task\")\n",
        "  print(\"2. View Task\")\n",
        "  print(\"3. Mark task as completed\")\n",
        "  print(\"4. Exit\")\n",
        "\n",
        "def add_Task(tasks):\n",
        "  task_name = input(\"Enter task Name: \")\n",
        "  tasks[task_name] = False\n",
        "  print(f\"Task '{task_name}' added successfully.\")\n",
        "\n",
        "def view_tasks(tasks):\n",
        "  if not tasks:\n",
        "    print(\"No tasks found.\")\n",
        "  else:\n",
        "    print(\"Tasks:\")\n",
        "    for task, completed in tasks.items():\n",
        "      status =  \"Completed\" if completed else \"Not completed\"\n",
        "      print(f\"-{task} ({status})\")\n",
        "\n",
        "def mark_completed(tasks):\n",
        "  view_tasks(tasks)\n",
        "  task_name = input(\"Enter the task name to mark as completed: \")\n",
        "  if task_name in tasks:\n",
        "    tasks[task_name] = True\n",
        "    print(f\"Task '{task_name}' marked as completed.\")\n",
        "  else:\n",
        "    print(\"Task not found.\")\n",
        "\n",
        "def main():\n",
        "  tasks = {}\n",
        "  while True:\n",
        "    show_menu()\n",
        "    choice = input(\"Enter your choice (1-4): \")\n",
        "    if choice == \"1\":\n",
        "      add_Task(tasks)\n",
        "    elif choice == \"2\":\n",
        "      view_tasks(tasks)\n",
        "    elif choice == \"3\":\n",
        "      mark_completed(tasks)\n",
        "    elif choice == \"4\":\n",
        "      print(\"Exiting To-Do List. Goodbye!\")\n",
        "      break\n",
        "    else:\n",
        "      print(\"Invalid choice. Please enter a number between 1 and 4.\")\n",
        "\n",
        "if __name__ == \"__main__\":\n",
        "    main()\n"
      ]
    },
    {
      "cell_type": "code",
      "source": [],
      "metadata": {
        "id": "X0lxgLsehq8P"
      },
      "execution_count": null,
      "outputs": []
    }
  ]
}