{
  "nbformat": 4,
  "nbformat_minor": 0,
  "metadata": {
    "colab": {
      "provenance": []
    },
    "kernelspec": {
      "name": "python3",
      "display_name": "Python 3"
    },
    "language_info": {
      "name": "python"
    }
  },
  "cells": [
    {
      "cell_type": "code",
      "execution_count": 12,
      "metadata": {
        "colab": {
          "base_uri": "https://localhost:8080/"
        },
        "id": "_aFuY5Vkk151",
        "outputId": "4b16bda7-8dd1-4ece-98b1-1368ce68e304"
      },
      "outputs": [
        {
          "output_type": "stream",
          "name": "stdout",
          "text": [
            "What is capital of France\n",
            "1. Berlin\n",
            "2. Paris\n",
            "3. Madrid\n",
            "Your answer (enter the option number):2\n",
            "Correct!! \n",
            "\n",
            "Which planet is known as red planet?\n",
            "1. Mars\n",
            "2. Venus\n",
            "3. Jupiter\n",
            "Your answer (enter the option number):1\n",
            "Correct!! \n",
            "\n",
            "What us the largest animal?\n",
            "1. Elephant\n",
            "2. Blue whale\n",
            "3. Giraffe\n",
            "Your answer (enter the option number):2\n",
            "Correct!! \n",
            "\n",
            "Bingo... you answered all questions..\n"
          ]
        }
      ],
      "source": [
        "def display_questions(ques, optionss):\n",
        "  print(ques)\n",
        "  for index, option in enumerate(optionss, start=1):\n",
        "    print(f\"{index}. {option}\")\n",
        "\n",
        "def take_quiz(quiz_ques):\n",
        "  score = 0\n",
        "  for que, options, correct_options in quiz_ques:\n",
        "    display_questions(que, options)\n",
        "    user_ans = input(\"Your answer (enter the option number):\", ).strip().lower()\n",
        "\n",
        "    if user_ans.isdigit() and 1 <= int(user_ans) <= len(options):\n",
        "      user_ans = int(user_ans) - 1\n",
        "      if options[user_ans] == correct_options:\n",
        "        print(\"Correct!! \\n\")\n",
        "        score += 1\n",
        "      else:\n",
        "        print(f\"Wrong!! The correct answer is: {correct_options} \\n\")\n",
        "    else:\n",
        "      print(\"Invalid input. Please enter valid input.\")\n",
        "  if score == 3:\n",
        "    print(\"Bingo... you answered all questions correctly.\")\n",
        "\n",
        "if __name__ == \"__main__\":\n",
        "  quiz_que = [\n",
        "      (\"What is capital of France\",[\"Berlin\", \"Paris\", \"Madrid\"],\"Paris\"),\n",
        "      (\"Which planet is known as red planet?\",[\"Mars\", \"Venus\", \"Jupiter\"],\"Mars\"),\n",
        "      (\"What us the largest animal?\",[\"Elephant\", \"Blue whale\", \"Giraffe\"], \"Blue whale\"),\n",
        "  ]\n",
        "  take_quiz(quiz_que)"
      ]
    },
    {
      "cell_type": "code",
      "source": [],
      "metadata": {
        "id": "JkghMt19lh0B"
      },
      "execution_count": null,
      "outputs": []
    }
  ]
}